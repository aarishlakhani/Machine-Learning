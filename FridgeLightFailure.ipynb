{
  "cells": [
    {
      "cell_type": "markdown",
      "metadata": {
        "id": "view-in-github",
        "colab_type": "text"
      },
      "source": [
        "<a href=\"https://colab.research.google.com/github/aarishlakhani/Machine-Learning/blob/main/FridgeLightFailure.ipynb\" target=\"_parent\"><img src=\"https://colab.research.google.com/assets/colab-badge.svg\" alt=\"Open In Colab\"/></a>"
      ]
    },
    {
      "cell_type": "markdown",
      "metadata": {
        "id": "twKpLeRhDeyQ"
      },
      "source": [
        "# Homework 2\n",
        "\n",
        "## Follow These Steps Before Submitting\n",
        "Once you are finished, ensure to complete the following steps.\n",
        "\n",
        "1.  Restart your kernel by clicking 'Kernel' > 'Restart & Run All'.\n",
        "\n",
        "2.  Fix any errors which result from this.\n",
        "\n",
        "3.  Repeat steps 1. and 2. until your notebook runs without errors.\n",
        "\n",
        "4.  Submit your completed notebook to OWL by the deadline.\n"
      ]
    },
    {
      "cell_type": "markdown",
      "source": [
        "# 1. Fridge Light Failure\n",
        "\n",
        "Imagine that you work for a company that sells fridges, with a lifetime warranty for the fridge lights. Your boss is interested in understanding the distribution of the number of lights that will fail in a given month, based on data collected over the last several years. The data were collected by hand and manually entered, so data entry errors are possible. There are also some months with missing data."
      ],
      "metadata": {
        "id": "waD8EZwFMt1U"
      }
    },
    {
      "cell_type": "code",
      "execution_count": 40,
      "metadata": {
        "id": "zJdm6Uxlq-kc"
      },
      "outputs": [],
      "source": [
        "import pandas as pd\n",
        "import matplotlib.pyplot as plt\n",
        "import seaborn as sns\n",
        "import numpy as np\n",
        "%matplotlib inline\n",
        "\n",
        "from scipy.stats import zscore\n",
        "from scipy.special import factorial\n",
        "import scipy.optimize as so"
      ]
    },
    {
      "cell_type": "code",
      "source": [
        "# Uncomment the line below if you are using Google colab\n",
        "!gdown https://drive.google.com/uc?id=1wzY4XdkcwdNdVGL42PEN0ORtzWcdj2VF"
      ],
      "metadata": {
        "id": "nKQxNU4X6i3I",
        "colab": {
          "base_uri": "https://localhost:8080/"
        },
        "outputId": "27b4ea24-964d-4e6c-d619-4016f927cca5"
      },
      "execution_count": 41,
      "outputs": [
        {
          "output_type": "stream",
          "name": "stdout",
          "text": [
            "Downloading...\n",
            "From: https://drive.google.com/uc?id=1wzY4XdkcwdNdVGL42PEN0ORtzWcdj2VF\n",
            "To: /content/Fridge Light Data.csv\n",
            "\r  0% 0.00/746 [00:00<?, ?B/s]\r100% 746/746 [00:00<00:00, 2.75MB/s]\n"
          ]
        }
      ]
    },
    {
      "cell_type": "markdown",
      "metadata": {
        "id": "tTKdVYZLGm-b"
      },
      "source": [
        "1. Read the CSV file using Pandas and store it. All you've been given are a meaningless ID and the counts of the number of fridge lights that failed in each month."
      ]
    },
    {
      "cell_type": "code",
      "execution_count": 42,
      "metadata": {
        "id": "Wj-Yl2t5JW0Y",
        "colab": {
          "base_uri": "https://localhost:8080/"
        },
        "outputId": "a24165dd-de41-4b0d-86e5-c1c6b241e038"
      },
      "outputs": [
        {
          "output_type": "stream",
          "name": "stdout",
          "text": [
            "      ID     x\n",
            "0      1  24.0\n",
            "1      2  33.0\n",
            "2      3  31.0\n",
            "3      4   NaN\n",
            "4      5  31.0\n",
            "..   ...   ...\n",
            "102  103  25.0\n",
            "103  104  34.0\n",
            "104  105  43.0\n",
            "105  106  33.0\n",
            "106  107  29.0\n",
            "\n",
            "[107 rows x 2 columns]\n"
          ]
        }
      ],
      "source": [
        "fridge_light_data = pd.read_csv('Fridge Light Data.csv')\n",
        "print(fridge_light_data)"
      ]
    },
    {
      "cell_type": "markdown",
      "source": [
        "2. Count the number of null values in the dataset, then remove them."
      ],
      "metadata": {
        "id": "1tw6pJdOcY_k"
      }
    },
    {
      "cell_type": "code",
      "source": [
        "null_count = fridge_light_data.isnull().sum().sum()\n",
        "print('Number of null values:', null_count)"
      ],
      "metadata": {
        "id": "CwASQWPl87ye",
        "colab": {
          "base_uri": "https://localhost:8080/"
        },
        "outputId": "944070c9-aa22-4e80-b695-dc99469c214f"
      },
      "execution_count": 43,
      "outputs": [
        {
          "output_type": "stream",
          "name": "stdout",
          "text": [
            "Number of null values: 4\n"
          ]
        }
      ]
    },
    {
      "cell_type": "code",
      "source": [
        "cleaned_data = fridge_light_data.dropna()\n",
        "print(cleaned_data)"
      ],
      "metadata": {
        "id": "kRFCBuFm_eq9",
        "colab": {
          "base_uri": "https://localhost:8080/"
        },
        "outputId": "90a6b0bf-b14b-4607-e7c6-ad8b3485800a"
      },
      "execution_count": 44,
      "outputs": [
        {
          "output_type": "stream",
          "name": "stdout",
          "text": [
            "      ID     x\n",
            "0      1  24.0\n",
            "1      2  33.0\n",
            "2      3  31.0\n",
            "4      5  31.0\n",
            "5      6  24.0\n",
            "..   ...   ...\n",
            "102  103  25.0\n",
            "103  104  34.0\n",
            "104  105  43.0\n",
            "105  106  33.0\n",
            "106  107  29.0\n",
            "\n",
            "[103 rows x 2 columns]\n"
          ]
        }
      ]
    },
    {
      "cell_type": "markdown",
      "source": [
        "Number of null values: 4"
      ],
      "metadata": {
        "id": "CT6peESUdtd7"
      }
    },
    {
      "cell_type": "markdown",
      "source": [
        "3. Plot the distribution of the data. Add a title and axes labels to your plot."
      ],
      "metadata": {
        "id": "GR9-bjxqcZ_V"
      }
    },
    {
      "cell_type": "code",
      "source": [
        "# Ploting the distribution of the data\n",
        "plt.figure(figsize=(10, 6))\n",
        "plt.hist(cleaned_data['x'], bins=10, edgecolor='black', alpha=0.7)\n",
        "\n",
        "# Adding title and labels\n",
        "plt.title('Distribution of Fridge Light Failures', fontsize=14)\n",
        "plt.xlabel('Number of Failures', fontsize=12)\n",
        "plt.ylabel('Frequency', fontsize=12)\n",
        "\n",
        "# Showing the plot\n",
        "plt.show()\n"
      ],
      "metadata": {
        "id": "uKXVS9DWcaPy",
        "colab": {
          "base_uri": "https://localhost:8080/",
          "height": 569
        },
        "outputId": "d2b590b1-d8e1-4547-ba72-c502e15c4e5f"
      },
      "execution_count": 45,
      "outputs": [
        {
          "output_type": "display_data",
          "data": {
            "text/plain": [
              "<Figure size 1000x600 with 1 Axes>"
            ],
            "image/png": "[encoded data removed]"
          },
          "metadata": {}
        }
      ]
    },
    {
      "cell_type": "markdown",
      "source": [
        "4. Count the number of observations that you know with **certainty** are data entry errors, then remove them. Explain why you know they are errors."
      ],
      "metadata": {
        "id": "EtcPq8KBcaay"
      }
    },
    {
      "source": [
        "# Describing the data to understand its range and identify potential outliers\n",
        "data_description = cleaned_data['x'].describe()\n",
        "\n",
        "# Defining criteria for data entry errors (e.g., negative values or excessively high counts)\n",
        "# Assuming fridge light failures cannot be negative or extremely high (>100 as an arbitrary threshold)\n",
        "errors = cleaned_data[(cleaned_data['x'] < 0) | (cleaned_data['x'] > 100)]\n",
        "\n",
        "# Removing these errors from the dataset\n",
        "cleaned_data_no_errors = cleaned_data.drop(errors.index)\n",
        "\n",
        "# Counting and displaying results\n",
        "error_count = len(errors)\n",
        "data_description, error_count, cleaned_data_no_errors.head()\n"
      ],
      "cell_type": "code",
      "metadata": {
        "colab": {
          "base_uri": "https://localhost:8080/"
        },
        "id": "0SfhQXqWLaUk",
        "outputId": "b551518c-ac30-4b96-808f-ecb499012b6d"
      },
      "execution_count": 46,
      "outputs": [
        {
          "output_type": "execute_result",
          "data": {
            "text/plain": [
              "(count    103.000000\n",
              " mean      29.873786\n",
              " std        9.115468\n",
              " min       -2.000000\n",
              " 25%       26.000000\n",
              " 50%       29.000000\n",
              " 75%       34.000000\n",
              " max       63.000000\n",
              " Name: x, dtype: float64,\n",
              " 3,\n",
              "    ID     x\n",
              " 0   1  24.0\n",
              " 1   2  33.0\n",
              " 2   3  31.0\n",
              " 4   5  31.0\n",
              " 5   6  24.0)"
            ]
          },
          "metadata": {},
          "execution_count": 46
        }
      ]
    },
    {
      "cell_type": "markdown",
      "source": [
        "Number of certain data entry errors: 3"
      ],
      "metadata": {
        "id": "2sABGG8Jdx01"
      }
    },
    {
      "cell_type": "markdown",
      "source": [
        "5. Compute the negative log-likelihood based on the assumption that the data comes from a Poisson($\\lambda$) distribution. The negative log-likelihood for a Poisson($\\lambda$) distribution is as follows:\n",
        "\n",
        "$$\n",
        "nll(\\lambda) = n \\lambda - \\left(\\sum_{i=1}^{n}x_i\\right) log(\\lambda) + \\sum_{i=1}^{n}log(x_i!)\n",
        "$$"
      ],
      "metadata": {
        "id": "lZdbfE4xca3N"
      }
    },
    {
      "cell_type": "code",
      "source": [
        "from scipy.special import gammaln\n",
        "\n",
        "def poissonNegLogLikelihood(lmbda, data):\n",
        "    n = len(data)\n",
        "    sum_x = np.sum(data)\n",
        "    log_factorials = np.sum(gammaln(data + 1))  # gammaln(x+1) = log(factorial(x))\n",
        "    nll = n * lmbda - sum_x * np.log(lmbda) + log_factorials\n",
        "    return nll\n",
        "\n",
        "# Re-test the function with the dummy dataset and lambda = 25\n",
        "nll_result = poissonNegLogLikelihood(lambda_test, dummy_data['x'])\n",
        "nll_result\n",
        "\n",
        "\n",
        "from scipy.special import gammaln\n",
        "\n",
        "# Correcting the function using gammaln for log(factorial(x))\n",
        "def poissonNegLogLikelihood(lmbda, data):\n",
        "    n = len(data)\n",
        "    sum_x = np.sum(data)\n",
        "    log_factorials = np.sum(gammaln(data + 1))  # gammaln(x+1) = log(factorial(x))\n",
        "    nll = n * lmbda - sum_x * np.log(lmbda) + log_factorials\n",
        "    return nll\n",
        "\n",
        "# Define lambda_test with the intended value (e.g., 25)\n",
        "lambda_test = 25\n",
        "\n",
        "# Re-testing the function with the dummy dataset and lambda = 25\n",
        "dummy_data = pd.DataFrame({'x': [20, 22, 18, 6, 8]}) # This was originally defined after the function call, it should be before.\n",
        "nll_result = poissonNegLogLikelihood(lambda_test, dummy_data['x'])\n",
        "nll_result\n",
        "\n",
        "\n",
        "\n",
        "#testing  function on a dummy dataset with lambda = 25\n",
        "poissonNegLogLikelihood(25, dummy_data.x)\n",
        "#testing  function on a dummy dataset with lambda = 25\n",
        "dummy_data = pd.DataFrame({'x': [20, 22, 18, 6, 8]})\n",
        "poissonNegLogLikelihood(25, dummy_data.x)"
      ],
      "metadata": {
        "id": "7uJMxQGycbDO",
        "colab": {
          "base_uri": "https://localhost:8080/"
        },
        "outputId": "0f5af7eb-4118-4c61-ef29-0c801bd59dc1"
      },
      "execution_count": 47,
      "outputs": [
        {
          "output_type": "execute_result",
          "data": {
            "text/plain": [
              "31.189286095130285"
            ]
          },
          "metadata": {},
          "execution_count": 47
        }
      ]
    },
    {
      "cell_type": "markdown",
      "source": [
        "6. Consider integer values of $\\lambda$ ranging from 10 to 50. Compute the negative log-likelihood for each of these values and plot it. Include a title and axes labels on your plot. Based on the plot, what value of $\\lambda$ is most likely to have generated the data? You may give a small range."
      ],
      "metadata": {
        "id": "OC7LOJ30cbR-"
      }
    },
    {
      "cell_type": "code",
      "source": [
        "# Defining the range of lambda values to test\n",
        "lambda_values = range(10, 51)\n",
        "\n",
        "# Computing the negative log-likelihood for each lambda\n",
        "nll_values = [poissonNegLogLikelihood(lmbda, dummy_data['x']) for lmbda in lambda_values]\n",
        "\n",
        "# Ploting the results\n",
        "plt.figure(figsize=(10, 6))\n",
        "plt.plot(lambda_values, nll_values, marker='o', linestyle='-')\n",
        "plt.title('Negative Log-Likelihood vs Lambda', fontsize=14)\n",
        "plt.xlabel('Lambda (λ)', fontsize=12)\n",
        "plt.ylabel('Negative Log-Likelihood', fontsize=12)\n",
        "plt.grid(True)\n",
        "plt.show()\n",
        "\n",
        "# Identifing the lambda value with the minimum negative log-likelihood\n",
        "optimal_lambda = lambda_values[np.argmin(nll_values)]\n",
        "print(optimal_lambda)\n"
      ],
      "metadata": {
        "id": "69wIHdAMHbC2",
        "colab": {
          "base_uri": "https://localhost:8080/",
          "height": 587
        },
        "outputId": "51849aa6-c72f-44b8-9f04-25416ea60dbe"
      },
      "execution_count": 48,
      "outputs": [
        {
          "output_type": "display_data",
          "data": {
            "text/plain": [
              "<Figure size 1000x600 with 1 Axes>"
            ],
            "image/png": "[encoded data removed]"
          },
          "metadata": {}
        },
        {
          "output_type": "stream",
          "name": "stdout",
          "text": [
            "15\n"
          ]
        }
      ]
    },
    {
      "cell_type": "markdown",
      "source": [
        "Value of $\\lambda$ most likely to have generated the data: 15"
      ],
      "metadata": {
        "id": "P6tS_3vGeFlh"
      }
    },
    {
      "cell_type": "markdown",
      "source": [
        "7. Compute the negative log-likelihood based on the assumption that the data comes from a Normal($\\mu$, $\\sigma$) distribution. The negative log-likelihood for a Normal($\\mu$, $\\sigma$) distribution is as follows:\n",
        "\n",
        "$$\n",
        "nll(\\mu, \\sigma) = \\frac{n}{2}log(2π) + \\frac{n}{2}log(\\sigma^2) + \\frac{1}{2\\sigma^2}\\sum_{i=1}^{n}(x_i-\\mu)^2\n",
        "$$"
      ],
      "metadata": {
        "id": "SewZahEGdIAc"
      }
    },
    {
      "cell_type": "code",
      "source": [
        "# Defining the negative log-likelihood function for a normal distribution\n",
        "def normalNegLogLikelihood(mu, sigma, data):\n",
        "    n = len(data)\n",
        "    term1 = n / 2 * np.log(2 * np.pi)\n",
        "    term2 = n / 2 * np.log(sigma**2)\n",
        "    term3 = 1 / (2 * sigma**2) * np.sum((data - mu)**2)\n",
        "    nll = term1 + term2 + term3\n",
        "    return nll\n",
        "\n",
        "# Testing the function on a dummy dataset with mu = 25, sigma = 3\n",
        "dummy_data = pd.DataFrame({'x': [20, 22, 18, 6, 8]})\n",
        "nll_result_normal = normalNegLogLikelihood(25, 3, dummy_data['x'])\n",
        "print(nll_result_normal)"
      ],
      "metadata": {
        "id": "ZbiJAR7UdIoO",
        "colab": {
          "base_uri": "https://localhost:8080/"
        },
        "outputId": "30914060-8754-4a95-be8c-8e8755c00d5f"
      },
      "execution_count": 49,
      "outputs": [
        {
          "output_type": "stream",
          "name": "stdout",
          "text": [
            "50.809976331586135\n"
          ]
        }
      ]
    },
    {
      "cell_type": "markdown",
      "source": [
        "8. Determine the exact value of $\\lambda$ that minimizes the negative log-likelihood for the Poisson distribution. Use so.minimize with method=\"Powell\" and without a Jacobian."
      ],
      "metadata": {
        "id": "D_eHDa6hdI6S"
      }
    },
    {
      "cell_type": "code",
      "source": [
        "from scipy.optimize import minimize\n",
        "\n",
        "# Defining the negative log-likelihood function for minimization (Poisson distribution)\n",
        "def poissonNegLogLikelihoodToMinimize(lmbda, data):\n",
        "    return poissonNegLogLikelihood(lmbda[0], data)\n",
        "\n",
        "# Using scipy's minimize with method=\"Powell\" to find the lambda that minimizes the NLL\n",
        "result = minimize(poissonNegLogLikelihoodToMinimize, x0=[15], args=(dummy_data['x'],), method='Powell')\n",
        "\n",
        "# Extracting the optimal lambda value\n",
        "optimal_lambda_exact = result.x[0]\n",
        "optimal_lambda_exact"
      ],
      "metadata": {
        "id": "218CrADmdJJG",
        "colab": {
          "base_uri": "https://localhost:8080/"
        },
        "outputId": "5b1586fd-a51f-48fd-bf26-b795e5040b77"
      },
      "execution_count": 50,
      "outputs": [
        {
          "output_type": "execute_result",
          "data": {
            "text/plain": [
              "14.800000013674234"
            ]
          },
          "metadata": {},
          "execution_count": 50
        }
      ]
    },
    {
      "cell_type": "markdown",
      "source": [
        "Value of $\\lambda$ that minimizes the negative log-likelihood: 14.800000013674234"
      ],
      "metadata": {
        "id": "EM0STEHneMEx"
      }
    },
    {
      "cell_type": "markdown",
      "source": [
        "9. Determine the set of values of $\\mu$ and $\\sigma$ that minimizes the negative log-likelihood for the Normal distribution."
      ],
      "metadata": {
        "id": "JQOgIrGgdJVk"
      }
    },
    {
      "cell_type": "code",
      "source": [
        "# Defining the negative log-likelihood function for minimization (Normal distribution)\n",
        "def normalNegLogLikelihoodToMinimize(params, data):\n",
        "    mu, sigma = params\n",
        "    return normalNegLogLikelihood(mu, sigma, data)\n",
        "\n",
        "# Using scipy's minimize to find the mu and sigma that minimize the NLL\n",
        "initial_guess = [20, 5]  # Initial guesses for mu and sigma\n",
        "result_normal = minimize(normalNegLogLikelihoodToMinimize, x0=initial_guess, args=(dummy_data['x'],), method='Powell')\n",
        "\n",
        "# Extracting the optimal mu and sigma values\n",
        "optimal_mu = result_normal.x[0]\n",
        "optimal_sigma = result_normal.x[1]\n",
        "optimal_mu, optimal_sigma\n"
      ],
      "metadata": {
        "id": "nZp9hNeQdJg3",
        "colab": {
          "base_uri": "https://localhost:8080/"
        },
        "outputId": "5abb69a2-7999-41be-84a9-db9f98330056"
      },
      "execution_count": 51,
      "outputs": [
        {
          "output_type": "execute_result",
          "data": {
            "text/plain": [
              "(14.80049132535219, 6.524637767133564)"
            ]
          },
          "metadata": {},
          "execution_count": 51
        }
      ]
    },
    {
      "cell_type": "markdown",
      "source": [
        "Values for $\\mu$ and $\\sigma$ that minimize the negative log-likelihood: (14.80049132535219, 6.524637767133564)\n"
      ],
      "metadata": {
        "id": "b7PTnZ-xeTgl"
      }
    },
    {
      "cell_type": "markdown",
      "source": [
        "10. There are three data entry errors that could potentially be valid entries. Which three are most likely to be data entry errors? Identify them by their value (i.e., not their index in the data)."
      ],
      "metadata": {
        "id": "VLxocRaqdKO7"
      }
    },
    {
      "cell_type": "code",
      "source": [
        "# Calculating z-scores for the data points\n",
        "z_scores = (dummy_data['x'] - optimal_mu) / optimal_sigma\n",
        "\n",
        "# Identifing the three most likely data entry errors (highest absolute z-scores)\n",
        "dummy_data['z_score'] = z_scores.abs()\n",
        "most_likely_errors = dummy_data.sort_values(by='z_score', ascending=False).head(3)\n",
        "\n",
        "# Extracting the values of the most likely errors\n",
        "most_likely_errors_values = most_likely_errors['x'].tolist()\n",
        "most_likely_errors_values\n"
      ],
      "metadata": {
        "id": "SW53VxX9dKZE",
        "colab": {
          "base_uri": "https://localhost:8080/"
        },
        "outputId": "6671e0d2-b9f2-4178-b698-382c0a254036"
      },
      "execution_count": 52,
      "outputs": [
        {
          "output_type": "execute_result",
          "data": {
            "text/plain": [
              "[6, 22, 8]"
            ]
          },
          "metadata": {},
          "execution_count": 52
        }
      ]
    },
    {
      "cell_type": "markdown",
      "source": [
        "Three most likely data entry errors: 6, 22, and 8"
      ],
      "metadata": {
        "id": "l5DEGf_1emZ8"
      }
    },
    {
      "cell_type": "markdown",
      "source": [
        "11. Remove the three observations that you think are most likely to be data entry errors. Determine the parameters that minimize the negative log-likelihoods for the Poisson($\\lambda$) and Normal($\\mu$, $\\sigma$) distributions. Do your results change in a meaningful way?"
      ],
      "metadata": {
        "id": "mA_KIj6tdj9N"
      }
    },
    {
      "cell_type": "code",
      "source": [
        "# Ensuring data is clean and bounds are valid for both mu and sigma\n",
        "cleaned_data_values = cleaned_data['x'].values  # Extract values for clarity\n",
        "\n",
        "# Reruning optimization with clean data and adjusted bounds\n",
        "result_normal_cleaned_constrained = minimize(\n",
        "    normalNegLogLikelihoodToMinimize,\n",
        "    x0=initial_guess,  # Reuse initial guess\n",
        "    args=(cleaned_data_values,),\n",
        "    method='L-BFGS-B',\n",
        "    bounds=[(None, None), (1e-3, None)],  # Adjust lower bound for sigma to avoid numerical issues\n",
        ")\n",
        "\n",
        "# Extracting updated parameters for Normal distribution\n",
        "optimal_mu_cleaned_constrained = result_normal_cleaned_constrained.x[0]\n",
        "optimal_sigma_cleaned_constrained = result_normal_cleaned_constrained.x[1]\n",
        "\n",
        "# Re-optimizing for Poisson distribution\n",
        "result_poisson_cleaned = minimize(\n",
        "    poissonNegLogLikelihoodToMinimize,\n",
        "    x0=[15],\n",
        "    args=(cleaned_data_values,),\n",
        "    method='Powell',\n",
        ")\n",
        "\n",
        "optimal_lambda_cleaned = result_poisson_cleaned.x[0]\n",
        "\n",
        "optimal_lambda_cleaned, optimal_mu_cleaned_constrained, optimal_sigma_cleaned_constrained\n"
      ],
      "metadata": {
        "id": "LEcn4ZhEe1jb",
        "colab": {
          "base_uri": "https://localhost:8080/"
        },
        "outputId": "49ed631c-e33e-483e-d752-4daa17c6e85c"
      },
      "execution_count": 53,
      "outputs": [
        {
          "output_type": "stream",
          "name": "stderr",
          "text": [
            "/usr/local/lib/python3.11/dist-packages/scipy/optimize/_optimize.py:3496: RuntimeWarning: invalid value encountered in scalar subtract\n",
            "  if (fx2 - fval) > delta:\n",
            "/usr/local/lib/python3.11/dist-packages/scipy/optimize/_optimize.py:3506: RuntimeWarning: invalid value encountered in scalar subtract\n",
            "  if 2.0 * (fx - fval) <= bnd:\n"
          ]
        },
        {
          "output_type": "execute_result",
          "data": {
            "text/plain": [
              "(15.0, 29.873788620998894, 9.07111119225203)"
            ]
          },
          "metadata": {},
          "execution_count": 53
        }
      ]
    },
    {
      "cell_type": "markdown",
      "source": [
        "12. Between the Poisson and Normal models, which one do you think is best to use to represent the data? Why? Provide your answer in no more than two lines."
      ],
      "metadata": {
        "id": "uVBzmwL5pvqq"
      }
    },
    {
      "cell_type": "markdown",
      "source": [
        "The Poisson model is better suited as the data represents count values, which are non-negative integers, aligning with the Poisson distribution's assumptions. The Normal model may misrepresent the data due to its support for continuous and negative values."
      ],
      "metadata": {
        "id": "961gNl1Gp1ee"
      }
    }
  ],
  "metadata": {
    "colab": {
      "provenance": [],
      "include_colab_link": true
    },
    "kernelspec": {
      "display_name": "ml",
      "language": "python",
      "name": "python3"
    },
    "language_info": {
      "codemirror_mode": {
        "name": "ipython",
        "version": 3
      },
      "file_extension": ".py",
      "mimetype": "text/x-python",
      "name": "python",
      "nbconvert_exporter": "python",
      "pygments_lexer": "ipython3",
      "version": "3.11.5"
    }
  },
  "nbformat": 4,
  "nbformat_minor": 0
}
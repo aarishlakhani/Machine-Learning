{
  "cells": [
    {
      "cell_type": "markdown",
      "metadata": {
        "id": "view-in-github",
        "colab_type": "text"
      },
      "source": [
        "<a href=\"https://colab.research.google.com/github/aarishlakhani/Machine-Learning/blob/main/FridgeLightFailure.ipynb\" target=\"_parent\"><img src=\"https://colab.research.google.com/assets/colab-badge.svg\" alt=\"Open In Colab\"/></a>"
      ]
    },
    {
      "cell_type": "markdown",
      "metadata": {
        "id": "twKpLeRhDeyQ"
      },
      "source": [
        "# Homework 2\n",
        "\n",
        "## Follow These Steps Before Submitting\n",
        "Once you are finished, ensure to complete the following steps.\n",
        "\n",
        "1.  Restart your kernel by clicking 'Kernel' > 'Restart & Run All'.\n",
        "\n",
        "2.  Fix any errors which result from this.\n",
        "\n",
        "3.  Repeat steps 1. and 2. until your notebook runs without errors.\n",
        "\n",
        "4.  Submit your completed notebook to OWL by the deadline.\n"
      ]
    },
    {
      "cell_type": "markdown",
      "source": [
        "# 1. Fridge Light Failure\n",
        "\n",
        "Imagine that you work for a company that sells fridges, with a lifetime warranty for the fridge lights. Your boss is interested in understanding the distribution of the number of lights that will fail in a given month, based on data collected over the last several years. The data were collected by hand and manually entered, so data entry errors are possible. There are also some months with missing data."
      ],
      "metadata": {
        "id": "waD8EZwFMt1U"
      }
    },
    {
      "cell_type": "code",
      "execution_count": null,
      "metadata": {
        "id": "zJdm6Uxlq-kc"
      },
      "outputs": [],
      "source": [
        "import pandas as pd\n",
        "import matplotlib.pyplot as plt\n",
        "import seaborn as sns\n",
        "import numpy as np\n",
        "%matplotlib inline\n",
        "\n",
        "from scipy.stats import zscore\n",
        "from scipy.special import factorial\n",
        "import scipy.optimize as so"
      ]
    },
    {
      "cell_type": "code",
      "source": [
        "# Uncomment the line below if you are using Google colab\n",
        "!gdown https://drive.google.com/uc?id=1wzY4XdkcwdNdVGL42PEN0ORtzWcdj2VF"
      ],
      "metadata": {
        "id": "nKQxNU4X6i3I",
        "colab": {
          "base_uri": "https://localhost:8080/"
        },
        "outputId": "f57beb9e-f044-4aae-f389-ce4af071b688"
      },
      "execution_count": null,
      "outputs": [
        {
          "output_type": "stream",
          "name": "stdout",
          "text": [
            "Downloading...\n",
            "From: https://drive.google.com/uc?id=1wzY4XdkcwdNdVGL42PEN0ORtzWcdj2VF\n",
            "To: /content/Fridge Light Data.csv\n",
            "\r  0% 0.00/746 [00:00<?, ?B/s]\r100% 746/746 [00:00<00:00, 3.72MB/s]\n"
          ]
        }
      ]
    },
    {
      "cell_type": "markdown",
      "metadata": {
        "id": "tTKdVYZLGm-b"
      },
      "source": [
        "1. Read the CSV file using Pandas and store it. All you've been given are a meaningless ID and the counts of the number of fridge lights that failed in each month."
      ]
    },
    {
      "cell_type": "code",
      "execution_count": null,
      "metadata": {
        "id": "Wj-Yl2t5JW0Y",
        "colab": {
          "base_uri": "https://localhost:8080/"
        },
        "outputId": "55665cac-4781-4a72-c339-88e84f97979a"
      },
      "outputs": [
        {
          "output_type": "stream",
          "name": "stdout",
          "text": [
            "      ID     x\n",
            "0      1  24.0\n",
            "1      2  33.0\n",
            "2      3  31.0\n",
            "3      4   NaN\n",
            "4      5  31.0\n",
            "..   ...   ...\n",
            "102  103  25.0\n",
            "103  104  34.0\n",
            "104  105  43.0\n",
            "105  106  33.0\n",
            "106  107  29.0\n",
            "\n",
            "[107 rows x 2 columns]\n"
          ]
        }
      ],
      "source": [
        "fridge_light_data = pd.read_csv('Fridge Light Data.csv')\n",
        "print(fridge_light_data)"
      ]
    },
    {
      "cell_type": "markdown",
      "source": [
        "2. Count the number of null values in the dataset, then remove them."
      ],
      "metadata": {
        "id": "1tw6pJdOcY_k"
      }
    },
    {
      "cell_type": "code",
      "source": [
        "null_count = fridge_light_data.isnull().sum().sum()\n",
        "print('Number of null values:', null_count)"
      ],
      "metadata": {
        "id": "CwASQWPl87ye",
        "colab": {
          "base_uri": "https://localhost:8080/"
        },
        "outputId": "8212ddb2-c2c9-48e2-c4a1-60438ad81f2b"
      },
      "execution_count": null,
      "outputs": [
        {
          "output_type": "stream",
          "name": "stdout",
          "text": [
            "Number of null values: 4\n"
          ]
        }
      ]
    },
    {
      "cell_type": "code",
      "source": [
        "cleaned_data = fridge_light_data.dropna()\n",
        "print(cleaned_data)"
      ],
      "metadata": {
        "id": "kRFCBuFm_eq9",
        "colab": {
          "base_uri": "https://localhost:8080/"
        },
        "outputId": "01f0e2e7-a273-46e3-b4de-cd29f6c3e3ce"
      },
      "execution_count": null,
      "outputs": [
        {
          "output_type": "stream",
          "name": "stdout",
          "text": [
            "      ID     x\n",
            "0      1  24.0\n",
            "1      2  33.0\n",
            "2      3  31.0\n",
            "4      5  31.0\n",
            "5      6  24.0\n",
            "..   ...   ...\n",
            "102  103  25.0\n",
            "103  104  34.0\n",
            "104  105  43.0\n",
            "105  106  33.0\n",
            "106  107  29.0\n",
            "\n",
            "[103 rows x 2 columns]\n"
          ]
        }
      ]
    },
    {
      "cell_type": "markdown",
      "source": [
        "Number of null values: 4"
      ],
      "metadata": {
        "id": "CT6peESUdtd7"
      }
    },
    {
      "cell_type": "markdown",
      "source": [
        "3. Plot the distribution of the data. Add a title and axes labels to your plot."
      ],
      "metadata": {
        "id": "GR9-bjxqcZ_V"
      }
    },
    {
      "cell_type": "code",
      "source": [
        "# Ploting the distribution of the data\n",
        "plt.figure(figsize=(10, 6))\n",
        "plt.hist(cleaned_data['x'], bins=10, edgecolor='black', alpha=0.7)\n",
        "\n",
        "# Adding title and labels\n",
        "plt.title('Distribution of Fridge Light Failures', fontsize=14)\n",
        "plt.xlabel('Number of Failures', fontsize=12)\n",
        "plt.ylabel('Frequency', fontsize=12)\n",
        "\n",
        "# Showing the plot\n",
        "plt.show()\n"
      ],
      "metadata": {
        "id": "uKXVS9DWcaPy",
        "colab": {
          "base_uri": "https://localhost:8080/",
          "height": 538
        },
        "outputId": "2b7f220a-ae83-4538-fdfb-2358b3398cc6"
      },
      "execution_count": null,
      "outputs": [
        {
          "output_type": "display_data",
          "data": {
            "text/plain": [
              "<Figure size 1000x600 with 1 Axes>"
            ],
            "image/png": "[encoded data removed]"
          },
          "metadata": {}
        }
      ]
    },
    {
      "cell_type": "markdown",
      "source": [
        "4. Count the number of observations that you know with **certainty** are data entry errors, then remove them. Explain why you know they are errors."
      ],
      "metadata": {
        "id": "EtcPq8KBcaay"
      }
    },
    {
      "source": [
        "# Describing the data to understand its range and identify potential outliers\n",
        "data_description = cleaned_data['x'].describe()\n",
        "\n",
        "# Defining criteria for data entry errors (e.g., negative values or excessively high counts)\n",
        "# Assuming fridge light failures cannot be negative or extremely high (>100 as an arbitrary threshold)\n",
        "errors = cleaned_data[(cleaned_data['x'] < 0) | (cleaned_data['x'] > 100)]\n",
        "\n",
        "# Removing these errors from the dataset\n",
        "cleaned_data_no_errors = cleaned_data.drop(errors.index)\n",
        "\n",
        "# Counting and displaying results\n",
        "error_count = len(errors)\n",
        "data_description, error_count, cleaned_data_no_errors.head()\n"
      ],
      "cell_type": "code",
      "metadata": {
        "colab": {
          "base_uri": "https://localhost:8080/"
        },
        "id": "0SfhQXqWLaUk",
        "outputId": "28ada03e-da84-4f60-c21b-991c2f6757f7"
      },
      "execution_count": null,
      "outputs": [
        {
          "output_type": "execute_result",
          "data": {
            "text/plain": [
              "(count    103.000000\n",
              " mean      29.873786\n",
              " std        9.115468\n",
              " min       -2.000000\n",
              " 25%       26.000000\n",
              " 50%       29.000000\n",
              " 75%       34.000000\n",
              " max       63.000000\n",
              " Name: x, dtype: float64,\n",
              " 3,\n",
              "    ID     x\n",
              " 0   1  24.0\n",
              " 1   2  33.0\n",
              " 2   3  31.0\n",
              " 4   5  31.0\n",
              " 5   6  24.0)"
            ]
          },
          "metadata": {},
          "execution_count": 102
        }
      ]
    },
    {
      "cell_type": "markdown",
      "source": [
        "Number of certain data entry errors: 3"
      ],
      "metadata": {
        "id": "2sABGG8Jdx01"
      }
    },
    {
      "cell_type": "markdown",
      "source": [
        "5. Compute the negative log-likelihood based on the assumption that the data comes from a Poisson($\\lambda$) distribution. The negative log-likelihood for a Poisson($\\lambda$) distribution is as follows:\n",
        "\n",
        "$$\n",
        "nll(\\lambda) = n \\lambda - \\left(\\sum_{i=1}^{n}x_i\\right) log(\\lambda) + \\sum_{i=1}^{n}log(x_i!)\n",
        "$$"
      ],
      "metadata": {
        "id": "lZdbfE4xca3N"
      }
    },
    {
      "cell_type": "code",
      "source": [
        "from scipy.special import gammaln\n",
        "\n",
        "def poissonNegLogLikelihood(lmbda, data):\n",
        "    n = len(data)\n",
        "    sum_x = np.sum(data)\n",
        "    log_factorials = np.sum(gammaln(data + 1))  # gammaln(x+1) = log(factorial(x))\n",
        "    nll = n * lmbda - sum_x * np.log(lmbda) + log_factorials\n",
        "    return nll\n",
        "\n",
        "# Re-test the function with the dummy dataset and lambda = 25\n",
        "nll_result = poissonNegLogLikelihood(lambda_test, dummy_data['x'])\n",
        "nll_result\n",
        "\n",
        "\n",
        "from scipy.special import gammaln\n",
        "\n",
        "# Correcting the function using gammaln for log(factorial(x))\n",
        "def poissonNegLogLikelihood(lmbda, data):\n",
        "    n = len(data)\n",
        "    sum_x = np.sum(data)\n",
        "    log_factorials = np.sum(gammaln(data + 1))  # gammaln(x+1) = log(factorial(x))\n",
        "    nll = n * lmbda - sum_x * np.log(lmbda) + log_factorials\n",
        "    return nll\n",
        "\n",
        "# Define lambda_test with the intended value (e.g., 25)\n",
        "lambda_test = 25\n",
        "\n",
        "# Re-testing the function with the dummy dataset and lambda = 25\n",
        "dummy_data = pd.DataFrame({'x': [20, 22, 18, 6, 8]}) # This was originally defined after the function call, it should be before.\n",
        "nll_result = poissonNegLogLikelihood(lambda_test, dummy_data['x'])\n",
        "nll_result\n",
        "\n",
        "\n",
        "\n",
        "#testing  function on a dummy dataset with lambda = 25\n",
        "poissonNegLogLikelihood(25, dummy_data.x)\n",
        "#testing  function on a dummy dataset with lambda = 25\n",
        "dummy_data = pd.DataFrame({'x': [20, 22, 18, 6, 8]})\n",
        "poissonNegLogLikelihood(25, dummy_data.x)"
      ],
      "metadata": {
        "id": "7uJMxQGycbDO",
        "colab": {
          "base_uri": "https://localhost:8080/"
        },
        "outputId": "80560f14-cd37-4624-8293-b94ff3035906"
      },
      "execution_count": null,
      "outputs": [
        {
          "output_type": "execute_result",
          "data": {
            "text/plain": [
              "31.189286095130285"
            ]
          },
          "metadata": {},
          "execution_count": 103
        }
      ]
    },
    {
      "cell_type": "markdown",
      "source": [
        "6. Consider integer values of $\\lambda$ ranging from 10 to 50. Compute the negative log-likelihood for each of these values and plot it. Include a title and axes labels on your plot. Based on the plot, what value of $\\lambda$ is most likely to have generated the data? You may give a small range."
      ],
      "metadata": {
        "id": "OC7LOJ30cbR-"
      }
    },
    {
      "cell_type": "code",
      "source": [
        "# Defining the range of lambda values to test\n",
        "lambda_values = range(10, 51)\n",
        "\n",
        "# Computing the negative log-likelihood for each lambda\n",
        "nll_values = [poissonNegLogLikelihood(lmbda, cleaned_data_no_errors['x']) for lmbda in lambda_values]\n",
        "\n",
        "# Ploting the results\n",
        "plt.figure(figsize=(10, 6))\n",
        "plt.plot(lambda_values, nll_values, marker='o', linestyle='-')\n",
        "plt.title('Negative Log-Likelihood vs Lambda', fontsize=14)\n",
        "plt.xlabel('Lambda (λ)', fontsize=12)\n",
        "plt.ylabel('Negative Log-Likelihood', fontsize=12)\n",
        "plt.grid(True)\n",
        "plt.show()\n",
        "\n",
        "# Identifing the lambda value with the minimum negative log-likelihood\n",
        "optimal_lambda = lambda_values[np.argmin(nll_values)]\n",
        "print(optimal_lambda)\n"
      ],
      "metadata": {
        "id": "69wIHdAMHbC2",
        "colab": {
          "base_uri": "https://localhost:8080/",
          "height": 545
        },
        "outputId": "44f84ba5-841a-4abd-e005-bba1c7d17232"
      },
      "execution_count": null,
      "outputs": [
        {
          "output_type": "display_data",
          "data": {
            "text/plain": [
              "<Figure size 1000x600 with 1 Axes>"
            ],
            "image/png": "[encoded data removed]"
          },
          "metadata": {}
        },
        {
          "output_type": "stream",
          "name": "stdout",
          "text": [
            "31\n"
          ]
        }
      ]
    },
    {
      "cell_type": "markdown",
      "source": [
        "Value of $\\lambda$ most likely to have generated the data: 31"
      ],
      "metadata": {
        "id": "P6tS_3vGeFlh"
      }
    },
    {
      "cell_type": "markdown",
      "source": [
        "7. Compute the negative log-likelihood based on the assumption that the data comes from a Normal($\\mu$, $\\sigma$) distribution. The negative log-likelihood for a Normal($\\mu$, $\\sigma$) distribution is as follows:\n",
        "\n",
        "$$\n",
        "nll(\\mu, \\sigma) = \\frac{n}{2}log(2π) + \\frac{n}{2}log(\\sigma^2) + \\frac{1}{2\\sigma^2}\\sum_{i=1}^{n}(x_i-\\mu)^2\n",
        "$$"
      ],
      "metadata": {
        "id": "SewZahEGdIAc"
      }
    },
    {
      "cell_type": "code",
      "source": [
        "# Defining the negative log-likelihood function for a normal distribution\n",
        "def normalNegLogLikelihood(mu, sigma, data):\n",
        "    n = len(data)\n",
        "    term1 = n / 2 * np.log(2 * np.pi)\n",
        "    term2 = n / 2 * np.log(sigma**2)\n",
        "    term3 = 1 / (2 * sigma**2) * np.sum((data - mu)**2)\n",
        "    nll = term1 + term2 + term3\n",
        "    return nll\n",
        "\n",
        "# Testing the function on a dummy dataset with mu = 25, sigma = 3\n",
        "dummy_data = pd.DataFrame({'x': [20, 22, 18, 6, 8]})\n",
        "nll_result_normal = normalNegLogLikelihood(25, 3, dummy_data['x'])\n",
        "print(nll_result_normal)"
      ],
      "metadata": {
        "id": "ZbiJAR7UdIoO",
        "colab": {
          "base_uri": "https://localhost:8080/"
        },
        "outputId": "2a036508-fed2-46cd-b239-bbe11fe7b14f"
      },
      "execution_count": null,
      "outputs": [
        {
          "output_type": "stream",
          "name": "stdout",
          "text": [
            "50.809976331586135\n"
          ]
        }
      ]
    },
    {
      "cell_type": "markdown",
      "source": [
        "8. Determine the exact value of $\\lambda$ that minimizes the negative log-likelihood for the Poisson distribution. Use so.minimize with method=\"Powell\" and without a Jacobian."
      ],
      "metadata": {
        "id": "D_eHDa6hdI6S"
      }
    },
    {
      "cell_type": "code",
      "source": [
        "from scipy.optimize import minimize\n",
        "\n",
        "# Defining the negative log-likelihood function for minimization (Poisson distribution)\n",
        "def poissonNegLogLikelihoodToMinimize(lmbda, data):\n",
        "    return poissonNegLogLikelihood(lmbda[0], data)\n",
        "\n",
        "# Using scipy's minimize with method=\"Powell\" to find the lambda that minimizes the NLL\n",
        "result = minimize(poissonNegLogLikelihoodToMinimize, x0=[15], args=(cleaned_data_no_errors['x'],), method='Powell')\n",
        "\n",
        "# Extracting the optimal lambda value\n",
        "optimal_lambda_exact = result.x[0]\n",
        "optimal_lambda_exact"
      ],
      "metadata": {
        "id": "218CrADmdJJG",
        "colab": {
          "base_uri": "https://localhost:8080/"
        },
        "outputId": "3dc71f9c-700b-4927-d709-64713b76b621"
      },
      "execution_count": null,
      "outputs": [
        {
          "output_type": "execute_result",
          "data": {
            "text/plain": [
              "30.819999994679918"
            ]
          },
          "metadata": {},
          "execution_count": 106
        }
      ]
    },
    {
      "cell_type": "markdown",
      "source": [
        "Value of $\\lambda$ that minimizes the negative log-likelihood: 30.819999994679918"
      ],
      "metadata": {
        "id": "EM0STEHneMEx"
      }
    },
    {
      "cell_type": "markdown",
      "source": [
        "9. Determine the set of values of $\\mu$ and $\\sigma$ that minimizes the negative log-likelihood for the Normal distribution."
      ],
      "metadata": {
        "id": "JQOgIrGgdJVk"
      }
    },
    {
      "cell_type": "code",
      "source": [
        "# Defining the negative log-likelihood function for a normal distribution\n",
        "def normalNegLogLikelihood(params, data):  # Changed to accept params and data\n",
        "    mu, sigma = params\n",
        "    n = len(data)\n",
        "    term1 = n / 2 * np.log(2 * np.pi)\n",
        "    term2 = n / 2 * np.log(sigma**2)\n",
        "    term3 = 1 / (2 * sigma**2) * np.sum((data - mu)**2)\n",
        "    nll = term1 + term2 + term3\n",
        "    return nll\n",
        "\n",
        "# Defining the negative log-likelihood function for minimization (Normal distribution)\n",
        "def normalNegLogLikelihoodToMinimize(params, data):\n",
        "    # mu, sigma = params  # No need to unpack here anymore\n",
        "    return normalNegLogLikelihood(params, data)  # Pass params directly\n",
        "\n",
        "# Using scipy's minimize to find the mu and sigma that minimize the NLL\n",
        "initial_guess = [20, 5]  # Initial guesses for mu and sigma\n",
        "result_normal = minimize(normalNegLogLikelihoodToMinimize, x0=initial_guess, args=(cleaned_data_no_errors['x'],), method='Powell')\n",
        "\n",
        "# Extracting the optimal mu and sigma values\n",
        "optimal_mu = result_normal.x[0]\n",
        "optimal_sigma = result_normal.x[1]\n",
        "optimal_mu, optimal_sigma"
      ],
      "metadata": {
        "id": "nZp9hNeQdJg3",
        "colab": {
          "base_uri": "https://localhost:8080/"
        },
        "outputId": "5072771a-ca0e-4a3d-a0e0-d03aa7374773"
      },
      "execution_count": null,
      "outputs": [
        {
          "output_type": "execute_result",
          "data": {
            "text/plain": [
              "(30.819714688424085, 7.349641291783016)"
            ]
          },
          "metadata": {},
          "execution_count": 107
        }
      ]
    },
    {
      "cell_type": "markdown",
      "source": [
        "Values for $\\mu$ and $\\sigma$ that minimize the negative log-likelihood: (30.819714688424085, 7.349641291783016)\n"
      ],
      "metadata": {
        "id": "b7PTnZ-xeTgl"
      }
    },
    {
      "cell_type": "markdown",
      "source": [
        "10. There are three data entry errors that could potentially be valid entries. Which three are most likely to be data entry errors? Identify them by their value (i.e., not their index in the data)."
      ],
      "metadata": {
        "id": "VLxocRaqdKO7"
      }
    },
    {
      "cell_type": "code",
      "source": [
        "# Calculating z-scores for the data points\n",
        "z_scores = (cleaned_data_no_errors['x'] - optimal_mu) / optimal_sigma\n",
        "\n",
        "# Identifing the three most likely data entry errors (highest absolute z-scores)\n",
        "cleaned_data_no_errors['z_score'] = z_scores.abs()\n",
        "most_likely_errors = cleaned_data_no_errors.sort_values(by='z_score', ascending=False).head(3)\n",
        "\n",
        "# Extracting the values of the most likely errors\n",
        "most_likely_errors_values = most_likely_errors['x'].tolist()\n",
        "most_likely_errors_values\n"
      ],
      "metadata": {
        "id": "SW53VxX9dKZE",
        "colab": {
          "base_uri": "https://localhost:8080/"
        },
        "outputId": "d2696543-545b-44eb-ab54-60c0953b0d79"
      },
      "execution_count": null,
      "outputs": [
        {
          "output_type": "execute_result",
          "data": {
            "text/plain": [
              "[63.0, 61.0, 52.0]"
            ]
          },
          "metadata": {},
          "execution_count": 108
        }
      ]
    },
    {
      "cell_type": "markdown",
      "source": [
        "Three most likely data entry errors: [63.0, 61.0, 52.0]"
      ],
      "metadata": {
        "id": "l5DEGf_1emZ8"
      }
    },
    {
      "cell_type": "markdown",
      "source": [
        "11. Remove the three observations that you think are most likely to be data entry errors. Determine the parameters that minimize the negative log-likelihoods for the Poisson($\\lambda$) and Normal($\\mu$, $\\sigma$) distributions. Do your results change in a meaningful way?"
      ],
      "metadata": {
        "id": "mA_KIj6tdj9N"
      }
    },
    {
      "cell_type": "code",
      "source": [
        "# 1. Remove identified data entry errors\n",
        "most_likely_errors_values = [63.0, 61.0, 52.0]\n",
        "cleaned_data_no_outliers = cleaned_data_no_errors[~cleaned_data_no_errors['x'].isin(most_likely_errors_values)]\n",
        "\n",
        "# 2. Re-fit the models\n",
        "# Poisson Model\n",
        "result_poisson_updated = minimize(poissonNegLogLikelihoodToMinimize, x0=[15], args=(cleaned_data_no_outliers['x'],), method='Powell')\n",
        "optimal_lambda_updated = result_poisson_updated.x[0]\n",
        "\n",
        "# Normal Model\n",
        "result_normal_updated = minimize(normalNegLogLikelihoodToMinimize, x0=initial_guess, args=(cleaned_data_no_outliers['x'],), method='Powell')\n",
        "optimal_mu_updated = result_normal_updated.x[0]\n",
        "optimal_sigma_updated = result_normal_updated.x[1]\n",
        "\n",
        "# Print the updated parameters\n",
        "print(f\"Updated Poisson lambda: {optimal_lambda_updated}\")\n",
        "print(f\"Updated Normal mu: {optimal_mu_updated}\")\n",
        "print(f\"Updated Normal sigma: {optimal_sigma_updated}\")"
      ],
      "metadata": {
        "id": "LEcn4ZhEe1jb",
        "colab": {
          "base_uri": "https://localhost:8080/"
        },
        "outputId": "044598e4-320c-4c64-d224-ce43546bb82d"
      },
      "execution_count": null,
      "outputs": [
        {
          "output_type": "stream",
          "name": "stdout",
          "text": [
            "Updated Poisson lambda: 29.95876290082407\n",
            "Updated Normal mu: 29.95876367214795\n",
            "Updated Normal sigma: 5.4996032409870965\n"
          ]
        }
      ]
    },
    {
      "cell_type": "markdown",
      "source": [
        "# Updated Parameters After Removing Outliers\n",
        "# Outliers removed: [63.0, 61.0, 52.0]\n",
        "\n",
        "# Updated Parameters\n",
        "# Poisson Distribution\n",
        "updated_lambda = 29.95876290082407\n",
        "\n",
        "# Normal Distribution\n",
        "updated_mu = 29.95876367214795\n",
        "updated_sigma = 5.4996032409870965\n",
        "\n",
        "# Original Parameters (from questions 8 and 9)\n",
        "original_lambda = 30.819999994679918\n",
        "original_mu = 30.819714688424085\n",
        "original_sigma = 7.349641291783016\n",
        "\n",
        "# Percentage Changes\n",
        "lambda_change = (updated_lambda - original_lambda) / original_lambda * 100\n",
        "mu_change = (updated_mu - original_mu) / original_mu * 100\n",
        "sigma_change = (updated_sigma - original_sigma) / original_sigma * 100\n",
        "\n",
        "# Print Results\n",
        "print(\"### Poisson Distribution ###\")\n",
        "print(f\"Original lambda: {original_lambda}\")\n",
        "print(f\"Updated lambda: {updated_lambda}\")\n",
        "print(f\"Percentage change in lambda: {lambda_change:.2f}%\\n\")\n",
        "\n",
        "print(\"### Normal Distribution ###\")\n",
        "print(f\"Original mu: {original_mu}\")\n",
        "print(f\"Updated mu: {updated_mu}\")\n",
        "print(f\"Percentage change in mu: {mu_change:.2f}%\\n\")\n",
        "print(f\"Original sigma: {original_sigma}\")\n",
        "print(f\"Updated sigma: {updated_sigma}\")\n",
        "print(f\"Percentage change in sigma: {sigma_change:.2f}%\\n\")\n",
        "\n",
        "# Analysis of Changes\n",
        "print(\"### Analysis of Changes ###\")\n",
        "print(\"- Poisson: The estimated average number of failures (lambda) has decreased by approximately 2.79%.\")\n",
        "print(\"- Normal: The estimated mean (mu) decreased by approximately 2.79%, while the standard deviation (sigma) decreased by about 25.16%.\")\n",
        "print(\"  - The substantial reduction in sigma indicates a significant impact of the outliers on the data's spread.\\n\")\n",
        "\n",
        "# Conclusion\n",
        "print(\"### Conclusion ###\")\n",
        "print(\"- Removing the outliers has resulted in minor changes in the Poisson model and significant changes in the Normal model.\")\n",
        "print(\"- The Normal model's sigma reduction highlights the influence of outliers on the data's spread.\")\n",
        "print(\"- Poisson remains more robust and is generally more appropriate for count data.\")"
      ],
      "metadata": {
        "id": "-YQMrm9R0sXe"
      }
    },
    {
      "cell_type": "markdown",
      "source": [
        "12. Between the Poisson and Normal models, which one do you think is best to use to represent the data? Why? Provide your answer in no more than two lines."
      ],
      "metadata": {
        "id": "uVBzmwL5pvqq"
      }
    },
    {
      "cell_type": "markdown",
      "source": [
        "The Poisson model is better suited as the data represents count values, which are non-negative integers, aligning with the Poisson distribution's assumptions. The Normal model may misrepresent the data due to its support for continuous and negative values."
      ],
      "metadata": {
        "id": "961gNl1Gp1ee"
      }
    }
  ],
  "metadata": {
    "colab": {
      "provenance": [],
      "include_colab_link": true
    },
    "kernelspec": {
      "display_name": "ml",
      "language": "python",
      "name": "python3"
    },
    "language_info": {
      "codemirror_mode": {
        "name": "ipython",
        "version": 3
      },
      "file_extension": ".py",
      "mimetype": "text/x-python",
      "name": "python",
      "nbconvert_exporter": "python",
      "pygments_lexer": "ipython3",
      "version": "3.11.5"
    }
  },
  "nbformat": 4,
  "nbformat_minor": 0
}
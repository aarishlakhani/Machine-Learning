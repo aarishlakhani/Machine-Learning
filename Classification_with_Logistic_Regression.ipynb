{
  "cells": [
    {
      "cell_type": "markdown",
      "metadata": {
        "id": "view-in-github",
        "colab_type": "text"
      },
      "source": [
        "<a href=\"https://colab.research.google.com/github/aarishlakhani/Machine-Learning/blob/main/Classification_with_Logistic_Regression.ipynb\" target=\"_parent\"><img src=\"https://colab.research.google.com/assets/colab-badge.svg\" alt=\"Open In Colab\"/></a>"
      ]
    },
    {
      "cell_type": "markdown",
      "metadata": {
        "id": "7_BO2jYnC1ge"
      },
      "source": [
        "# Assignment 3: Classification with Logistic Regression\n",
        "\n",
        "## Instructions\n",
        "\n",
        "* Complete the assignment as outlined below.\n",
        "* Restart your kernel and rerun your cells before submission.\n",
        "* Submit your completed notebook (.ipynb)."
      ],
      "id": "7_BO2jYnC1ge"
    },
    {
      "cell_type": "markdown",
      "metadata": {
        "id": "mmkN-Z_BC1gg"
      },
      "source": [
        "## Dataset Information\n",
        "\n",
        "The dataset contains health-related data for predicting diabetes. Below are the features:\n",
        "\n",
        "* `Pregnancies`: Number of pregnancies\n",
        "* `Glucose`: Plasma glucose concentration\n",
        "* `BloodPressure`: Diastolic blood pressure (mm Hg)\n",
        "* `SkinThickness`: Triceps skin fold thickness (mm)\n",
        "* `Insulin`: 2-hour serum insulin (mu U/ml)\n",
        "* `BMI`: Body mass index\n",
        "* `DiabetesPedigreeFunction`: Diabetes pedigree function\n",
        "* `Age`: Age (years)\n",
        "* `Outcome`: Target variable (1 = Diabetes, 0 = No Diabetes)\n",
        "\n",
        "Your goal in this homework is to train a first model for predicting the probability that a patient has diabetes given their healthcare data."
      ],
      "id": "mmkN-Z_BC1gg"
    },
    {
      "cell_type": "code",
      "execution_count": 49,
      "metadata": {
        "id": "Up1wd2v7DhYj"
      },
      "outputs": [],
      "source": [
        "# Suggested packages, you can add more if you think they are necessary.\n",
        "import pandas as pd\n",
        "import numpy as np\n",
        "from sklearn.model_selection import train_test_split\n",
        "from sklearn.preprocessing import StandardScaler\n",
        "from sklearn.linear_model import LogisticRegression\n",
        "from sklearn.metrics import accuracy_score\n",
        "from sklearn.metrics import roc_curve, roc_auc_score\n",
        "from sklearn.pipeline import Pipeline\n",
        "\n",
        "# Plotting packages\n",
        "import matplotlib.pyplot as plt\n",
        "import seaborn as sns\n",
        "%matplotlib inline"
      ],
      "id": "Up1wd2v7DhYj"
    },
    {
      "cell_type": "code",
      "execution_count": 50,
      "metadata": {
        "id": "X3iFlWRnDoDG",
        "colab": {
          "base_uri": "https://localhost:8080/"
        },
        "outputId": "ba993474-1a55-426d-c91f-bdef79511a2a"
      },
      "outputs": [
        {
          "output_type": "stream",
          "name": "stdout",
          "text": [
            "Downloading...\n",
            "From: https://drive.google.com/uc?id=1-_YcEl0q5LsDXRq5eix9K4gjSq78Ffd5\n",
            "To: /content/diabetes.csv\n",
            "\r  0% 0.00/23.1k [00:00<?, ?B/s]\r100% 23.1k/23.1k [00:00<00:00, 52.2MB/s]\n"
          ]
        }
      ],
      "source": [
        "# Download the data. Uncomment if using Colab.\n",
        "!gdown https://drive.google.com/uc?id=1-_YcEl0q5LsDXRq5eix9K4gjSq78Ffd5"
      ],
      "id": "X3iFlWRnDoDG"
    },
    {
      "cell_type": "markdown",
      "metadata": {
        "id": "yafwp1DBC1gg"
      },
      "source": [
        "## Question 1:\n",
        "\n",
        "1. Load the dataset `diabetes.csv` and display the first 5 rows.\n",
        "2. Print out all columns in the dataset and identify any missing values.\n",
        "3. Show the descriptive statistics of the data."
      ],
      "id": "yafwp1DBC1gg"
    },
    {
      "cell_type": "code",
      "execution_count": 51,
      "metadata": {
        "id": "byg7RoRhC1gh",
        "colab": {
          "base_uri": "https://localhost:8080/"
        },
        "outputId": "461fbb2b-882b-4fea-da9c-06e6081cda36"
      },
      "outputs": [
        {
          "output_type": "stream",
          "name": "stdout",
          "text": [
            "First 5 Rows of the Dataset:\n",
            "   Pregnancies  Glucose  BloodPressure  SkinThickness  Insulin   BMI  \\\n",
            "0            6      148             72             35        0  33.6   \n",
            "1            1       85             66             29        0  26.6   \n",
            "2            8      183             64              0        0  23.3   \n",
            "3            1       89             66             23       94  28.1   \n",
            "4            0      137             40             35      168  43.1   \n",
            "\n",
            "   DiabetesPedigreeFunction  Age  Outcome  \n",
            "0                     0.627   50        1  \n",
            "1                     0.351   31        0  \n",
            "2                     0.672   32        1  \n",
            "3                     0.167   21        0  \n",
            "4                     2.288   33        1  \n"
          ]
        }
      ],
      "source": [
        "# Load the dataset\n",
        "df = pd.read_csv(\"diabetes.csv\")\n",
        "\n",
        "#Print the first 5 rows of the dataframe.\n",
        "print(\"First 5 Rows of the Dataset:\")\n",
        "print(df.head())"
      ],
      "id": "byg7RoRhC1gh"
    },
    {
      "cell_type": "code",
      "execution_count": 52,
      "metadata": {
        "id": "OUCLqNW9C1gh",
        "colab": {
          "base_uri": "https://localhost:8080/"
        },
        "outputId": "e5fc991d-cc99-41e9-b4c5-e5b76f3ed28c"
      },
      "outputs": [
        {
          "output_type": "stream",
          "name": "stdout",
          "text": [
            "\n",
            "Columns in the Dataset:\n",
            "['Pregnancies', 'Glucose', 'BloodPressure', 'SkinThickness', 'Insulin', 'BMI', 'DiabetesPedigreeFunction', 'Age', 'Outcome']\n",
            "\n",
            "Missing Values in Each Column:\n",
            "Pregnancies                 0\n",
            "Glucose                     0\n",
            "BloodPressure               0\n",
            "SkinThickness               0\n",
            "Insulin                     0\n",
            "BMI                         0\n",
            "DiabetesPedigreeFunction    0\n",
            "Age                         0\n",
            "Outcome                     0\n",
            "dtype: int64\n"
          ]
        }
      ],
      "source": [
        "# Report number of null values\n",
        "#Print out all columns in the dataset\n",
        "print(\"\\nColumns in the Dataset:\")\n",
        "print(df.columns.tolist())\n",
        "\n",
        "# Identify missing values\n",
        "print(\"\\nMissing Values in Each Column:\")\n",
        "print(df.isnull().sum())"
      ],
      "id": "OUCLqNW9C1gh"
    },
    {
      "cell_type": "code",
      "execution_count": 53,
      "metadata": {
        "id": "TZDyr2WQC1gi",
        "colab": {
          "base_uri": "https://localhost:8080/"
        },
        "outputId": "f588e0a3-e0c7-4492-f955-ea29e0ebd9a6"
      },
      "outputs": [
        {
          "output_type": "stream",
          "name": "stdout",
          "text": [
            "\n",
            "Descriptive Statistics of the Dataset:\n",
            "       Pregnancies     Glucose  BloodPressure  SkinThickness     Insulin  \\\n",
            "count   768.000000  768.000000     768.000000     768.000000  768.000000   \n",
            "mean      3.845052  120.894531      69.105469      20.536458   79.799479   \n",
            "std       3.369578   31.972618      19.355807      15.952218  115.244002   \n",
            "min       0.000000    0.000000       0.000000       0.000000    0.000000   \n",
            "25%       1.000000   99.000000      62.000000       0.000000    0.000000   \n",
            "50%       3.000000  117.000000      72.000000      23.000000   30.500000   \n",
            "75%       6.000000  140.250000      80.000000      32.000000  127.250000   \n",
            "max      17.000000  199.000000     122.000000      99.000000  846.000000   \n",
            "\n",
            "              BMI  DiabetesPedigreeFunction         Age     Outcome  \n",
            "count  768.000000                768.000000  768.000000  768.000000  \n",
            "mean    31.992578                  0.471876   33.240885    0.348958  \n",
            "std      7.884160                  0.331329   11.760232    0.476951  \n",
            "min      0.000000                  0.078000   21.000000    0.000000  \n",
            "25%     27.300000                  0.243750   24.000000    0.000000  \n",
            "50%     32.000000                  0.372500   29.000000    0.000000  \n",
            "75%     36.600000                  0.626250   41.000000    1.000000  \n",
            "max     67.100000                  2.420000   81.000000    1.000000  \n"
          ]
        }
      ],
      "source": [
        "# Show descriptive statistics\n",
        "print(\"\\nDescriptive Statistics of the Dataset:\")\n",
        "print(df.describe())"
      ],
      "id": "TZDyr2WQC1gi"
    },
    {
      "cell_type": "markdown",
      "metadata": {
        "id": "nwWoCjpRC1gi"
      },
      "source": [
        "## Question 2:\n",
        "\n",
        "What is the baseline accuracy for this classification problem? Baseline accuracy is the accuracy of always predicting the most common class. You can assume there are no outliers in the data."
      ],
      "id": "nwWoCjpRC1gi"
    },
    {
      "cell_type": "code",
      "execution_count": 54,
      "metadata": {
        "id": "6jr2T0zPC1gj",
        "colab": {
          "base_uri": "https://localhost:8080/"
        },
        "outputId": "79955c53-cf9e-4fde-d1bb-80b3a40264ba"
      },
      "outputs": [
        {
          "output_type": "stream",
          "name": "stdout",
          "text": [
            "Baseline Accuracy: 65.10%\n"
          ]
        }
      ],
      "source": [
        "# Question 2 code\n",
        "# Calculate the baseline accuracy\n",
        "most_common_class = df[\"Outcome\"].value_counts().idxmax()  # Most frequent class (0 or 1)\n",
        "baseline_accuracy = df[\"Outcome\"].value_counts().max() / len(df)  # Proportion of most common class\n",
        "\n",
        "# Print the baseline accuracy\n",
        "print(f\"Baseline Accuracy: {baseline_accuracy:.2%}\")\n",
        "\n"
      ],
      "id": "6jr2T0zPC1gj"
    },
    {
      "cell_type": "markdown",
      "metadata": {
        "id": "TY8uSjkkC1gk"
      },
      "source": [
        "## Question 3:\n",
        "\n",
        "Split the data into training and testing sets. Use 70% of the data for training and 30% for testing. Pass `random_state = 42` to `train_test_split`. Ensure the `Outcome` column is the response variable. Report the descriptive statistics of X_train and X_test."
      ],
      "id": "TY8uSjkkC1gk"
    },
    {
      "cell_type": "code",
      "execution_count": 55,
      "metadata": {
        "id": "bOQXo-DRC1gk",
        "colab": {
          "base_uri": "https://localhost:8080/"
        },
        "outputId": "7777dc82-3e69-4cd4-8595-d9987ed263f8"
      },
      "outputs": [
        {
          "output_type": "stream",
          "name": "stdout",
          "text": [
            "Descriptive Statistics of X_train:\n",
            "       Pregnancies     Glucose  BloodPressure  SkinThickness     Insulin  \\\n",
            "count   537.000000  537.000000     537.000000     537.000000  537.000000   \n",
            "mean      3.882682  120.910615      69.143389      20.407821   78.467412   \n",
            "std       3.350097   31.293320      19.048346      15.511291  108.722892   \n",
            "min       0.000000    0.000000       0.000000       0.000000    0.000000   \n",
            "25%       1.000000   99.000000      62.000000       0.000000    0.000000   \n",
            "50%       3.000000  117.000000      72.000000      23.000000   38.000000   \n",
            "75%       6.000000  141.000000      80.000000      32.000000  130.000000   \n",
            "max      17.000000  198.000000     122.000000      60.000000  744.000000   \n",
            "\n",
            "              BMI  DiabetesPedigreeFunction         Age  \n",
            "count  537.000000                537.000000  537.000000  \n",
            "mean    32.134637                  0.480529   33.551210  \n",
            "std      7.806806                  0.335253   11.794639  \n",
            "min      0.000000                  0.084000   21.000000  \n",
            "25%     27.700000                  0.246000   24.000000  \n",
            "50%     32.400000                  0.385000   30.000000  \n",
            "75%     36.400000                  0.645000   41.000000  \n",
            "max     67.100000                  2.329000   81.000000  \n",
            "\n",
            "Descriptive Statistics of X_test:\n",
            "       Pregnancies     Glucose  BloodPressure  SkinThickness     Insulin  \\\n",
            "count   231.000000  231.000000     231.000000     231.000000  231.000000   \n",
            "mean      3.757576  120.857143      69.017316      20.835498   82.896104   \n",
            "std       3.420160   33.568508      20.094335      16.964124  129.339787   \n",
            "min       0.000000    0.000000       0.000000       0.000000    0.000000   \n",
            "25%       1.000000   99.000000      64.000000       0.000000    0.000000   \n",
            "50%       3.000000  118.000000      70.000000      22.000000    0.000000   \n",
            "75%       6.000000  139.500000      79.000000      33.000000  115.500000   \n",
            "max      15.000000  199.000000     110.000000      99.000000  846.000000   \n",
            "\n",
            "              BMI  DiabetesPedigreeFunction         Age  \n",
            "count  231.000000                231.000000  231.000000  \n",
            "mean    31.662338                  0.451762   32.519481  \n",
            "std      8.068592                  0.321835   11.673393  \n",
            "min      0.000000                  0.078000   21.000000  \n",
            "25%     26.000000                  0.237000   23.000000  \n",
            "50%     31.600000                  0.342000   28.000000  \n",
            "75%     36.700000                  0.599000   38.500000  \n",
            "max     59.400000                  2.420000   69.000000  \n"
          ]
        }
      ],
      "source": [
        "# Question 3 code\n",
        "\n",
        "# Define features (X) and target variable (y)\n",
        "X = df.drop(columns=[\"Outcome\"])  # Features\n",
        "y = df[\"Outcome\"]  # Target variable\n",
        "\n",
        "# Split the dataset into training (70%) and testing (30%) sets\n",
        "X_train, X_test, y_train, y_test = train_test_split(X, y, test_size=0.30, random_state=42, stratify=y)\n",
        "\n",
        "# Compute descriptive statistics for X_train and X_test\n",
        "print(\"Descriptive Statistics of X_train:\")\n",
        "print(X_train.describe())\n",
        "\n",
        "print(\"\\nDescriptive Statistics of X_test:\")\n",
        "print(X_test.describe())"
      ],
      "id": "bOQXo-DRC1gk"
    },
    {
      "cell_type": "markdown",
      "metadata": {
        "id": "of8-EZwnJZPi"
      },
      "source": [
        "**Written question: Are the descriptive statistics of the X_train and X_test datasets similar? Is this a reasonable dataset for the problem?**<br>\n",
        "Yes, the descriptive statistics of X_train and X_test are quite similar. The mean, standard deviation, minimum, and maximum values across different features do not show significant variation between the two datasets. This indicates that the data split was performed properly, preserving the overall distribution of features.\n",
        "\n",
        "Yes, this dataset is reasonable for the classification problem because:\n",
        "\n",
        "-Feature Distribution: The distributions of features in X_train and X_test are consistent, meaning the training data represents the test data well.<br>\n",
        "-Stratified Split: The target variable (Outcome) was stratified during splitting, ensuring that both sets maintain the same proportion of diabetic and non-diabetic cases."
      ],
      "id": "of8-EZwnJZPi"
    },
    {
      "cell_type": "markdown",
      "metadata": {
        "id": "M7EFl6XfJ9XB"
      },
      "source": [
        "**Written answer:**"
      ],
      "id": "M7EFl6XfJ9XB"
    },
    {
      "cell_type": "markdown",
      "metadata": {
        "id": "MaiclNWgC1gl"
      },
      "source": [
        "## Question 4:\n",
        "\n",
        "1. Create a pipeline that first standardizes the data using a z-scale transform, and then trains an instance of `LogisticRegression` with `penalty = None` and `max_iter = 1000`. Use the same random seed you used before.\n",
        "2. Train the pipeline using the training set."
      ],
      "id": "MaiclNWgC1gl"
    },
    {
      "cell_type": "code",
      "execution_count": 56,
      "metadata": {
        "id": "zX-AUhrpC1gl",
        "colab": {
          "base_uri": "https://localhost:8080/"
        },
        "outputId": "cc7429b7-e742-42e8-cbb3-b3a66bd2e57d"
      },
      "outputs": [
        {
          "output_type": "stream",
          "name": "stdout",
          "text": [
            "Pipeline training complete.\n"
          ]
        }
      ],
      "source": [
        "# Question 4 code\n",
        "# Create a pipeline that scales the features and trains a logistic regression model\n",
        "pipeline = Pipeline([\n",
        "    (\"scaler\", StandardScaler()),  # Standardize features using z-score transformation\n",
        "    (\"logistic_regression\", LogisticRegression(penalty=None, max_iter=1000, random_state=42))  # Logistic Regression Model, Changed penalty to None\n",
        "])\n",
        "\n",
        "# Train the pipeline\n",
        "pipeline.fit(X_train, y_train)\n",
        "\n",
        "# Model is now successfully trained\n",
        "print(\"Pipeline training complete.\")"
      ],
      "id": "zX-AUhrpC1gl"
    },
    {
      "cell_type": "markdown",
      "source": [
        "## Question 5:\n",
        "\n",
        "1. Compute the model’s accuracy on the training and testing sets.\n",
        "2. Display the model’s coefficients and intercept."
      ],
      "metadata": {
        "id": "WAnv4-Nqhp_U"
      },
      "id": "WAnv4-Nqhp_U"
    },
    {
      "cell_type": "code",
      "execution_count": 57,
      "metadata": {
        "id": "eyXmnFjRL7D4",
        "colab": {
          "base_uri": "https://localhost:8080/"
        },
        "outputId": "84126ecf-1e5a-4609-ea12-b7e1e94a2c19"
      },
      "outputs": [
        {
          "output_type": "stream",
          "name": "stdout",
          "text": [
            "\n",
            "Model Coefficients:\n",
            "                    Feature  Coefficient\n",
            "0               Pregnancies     0.467247\n",
            "1                   Glucose     1.146764\n",
            "2             BloodPressure    -0.209568\n",
            "3             SkinThickness    -0.038552\n",
            "4                   Insulin    -0.084794\n",
            "5                       BMI     0.726851\n",
            "6  DiabetesPedigreeFunction     0.238345\n",
            "7                       Age     0.091269\n",
            "\n",
            "Intercept: -0.8797\n"
          ]
        }
      ],
      "source": [
        "# Display coefficients\n",
        "# Get the training parameters in a dataframe with the corresponding feature names\n",
        "coefficients = pipeline.named_steps[\"logistic_regression\"].coef_[0]\n",
        "feature_names = X_train.columns\n",
        "coefficients_df = pd.DataFrame({\"Feature\": feature_names, \"Coefficient\": coefficients})\n",
        "\n",
        "# Display the coefficients DataFrame\n",
        "print(\"\\nModel Coefficients:\")\n",
        "print(coefficients_df)\n",
        "\n",
        "# Get the intercept of the logistic regression model\n",
        "intercept = pipeline.named_steps[\"logistic_regression\"].intercept_[0]\n",
        "print(f\"\\nIntercept: {intercept:.4f}\")\n"
      ],
      "id": "eyXmnFjRL7D4"
    },
    {
      "cell_type": "code",
      "execution_count": 58,
      "metadata": {
        "id": "3U4frtj0MN0q",
        "colab": {
          "base_uri": "https://localhost:8080/"
        },
        "outputId": "531de0b2-2558-435a-f7be-921f56f6ac21"
      },
      "outputs": [
        {
          "output_type": "stream",
          "name": "stdout",
          "text": [
            "Training Accuracy: 78.96%\n",
            "Testing Accuracy: 74.46%\n"
          ]
        }
      ],
      "source": [
        "# Calculate accuracy\n",
        "train_accuracy = pipeline.score(X_train, y_train)\n",
        "test_accuracy = pipeline.score(X_test, y_test)\n",
        "\n",
        "print(f\"Training Accuracy: {train_accuracy:.2%}\")\n",
        "print(f\"Testing Accuracy: {test_accuracy:.2%}\")"
      ],
      "id": "3U4frtj0MN0q"
    },
    {
      "cell_type": "markdown",
      "metadata": {
        "id": "lYiUpH_YC1gm"
      },
      "source": [
        "## Question 6:\n",
        "\n",
        "1. Plot the ROC curve for the logistic regression model using the testing set. Make sure your plot includes a title and properly labeled axes.\n",
        "2. Compute the area under the curve (AUC). Report the AUC at the top-left of your plot."
      ],
      "id": "lYiUpH_YC1gm"
    },
    {
      "cell_type": "code",
      "execution_count": 59,
      "metadata": {
        "id": "9KVu82JLC1gn",
        "colab": {
          "base_uri": "https://localhost:8080/",
          "height": 564
        },
        "outputId": "d9ead0b5-6177-4cd6-de04-50e010c404fa"
      },
      "outputs": [
        {
          "output_type": "display_data",
          "data": {
            "text/plain": [
              "<Figure size 800x600 with 1 Axes>"
            ],
            "image/png": "[encoded data removed]"
          },
          "metadata": {}
        }
      ],
      "source": [
        "# Compute probabilities\n",
        "y_prob = pipeline.predict_proba(X_test)[:, 1]  # Get the probability of the positive class\n",
        "\n",
        "# Plot ROC curve\n",
        "fpr, tpr, _ = roc_curve(y_test, y_prob)\n",
        "auc = roc_auc_score(y_test, y_prob)\n",
        "\n",
        "plt.figure(figsize=(8, 6))\n",
        "plt.plot(fpr, tpr, label=f\"AUC = {auc:.2f}\", color=\"blue\")\n",
        "plt.plot([0, 1], [0, 1], \"k--\", label=\"Random Classifier\")  # Diagonal reference line\n",
        "plt.title(\"ROC Curve for Logistic Regression Model\")\n",
        "plt.xlabel(\"False Positive Rate\")\n",
        "plt.ylabel(\"True Positive Rate\")\n",
        "plt.legend(loc=\"lower right\")\n",
        "plt.grid(True)\n",
        "plt.show()"
      ],
      "id": "9KVu82JLC1gn"
    },
    {
      "cell_type": "markdown",
      "metadata": {
        "id": "HCZwuokNhJ5t"
      },
      "source": [
        "**Written question: Comment on the capacity of the model to predict the outcome. Is the AUC acceptable?**"
      ],
      "id": "HCZwuokNhJ5t"
    },
    {
      "cell_type": "markdown",
      "metadata": {
        "id": "pHYWJFK0QmFG"
      },
      "source": [
        "**Written answer:**<br>\n",
        "The model's AUC of 0.84 indicates strong discriminative ability, suggesting that it is highly capable of distinguishing between diabetic and non-diabetic cases. An AUC value above 0.80 is generally considered excellent, highlighting the model's effectiveness in predicting outcomes. This means the model performs significantly better than random guessing and has a robust capacity to predict the target variable. The AUC score is acceptable and demonstrates that the logistic regression model is well-suited for this classification task. While the performance is strong, there may still be room for improvement through further feature engineering or hyperparameter optimization.\n",
        "\n",
        "\n",
        "\n",
        "\n",
        "\n",
        "\n",
        "\n",
        "\n",
        "\n",
        "\n",
        "\n"
      ],
      "id": "pHYWJFK0QmFG"
    }
  ],
  "metadata": {
    "colab": {
      "provenance": [],
      "include_colab_link": true
    },
    "kernelspec": {
      "display_name": "Python 3",
      "language": "python",
      "name": "python3"
    },
    "language_info": {
      "codemirror_mode": {
        "name": "ipython",
        "version": 3
      },
      "file_extension": ".py",
      "mimetype": "text/x-python",
      "name": "python",
      "nbconvert_exporter": "python",
      "pygments_lexer": "ipython3",
      "version": "3.7.6"
    }
  },
  "nbformat": 4,
  "nbformat_minor": 5
}